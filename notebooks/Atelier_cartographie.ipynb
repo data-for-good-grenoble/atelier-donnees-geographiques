{
  "cells": [
    {
      "cell_type": "markdown",
      "id": "c3ca3c31",
      "metadata": {
        "id": "c3ca3c31"
      },
      "source": [
        "# 🗺️ Atelier Analyse de données géographiques\n",
        "\n",
        "<a href=\"https://www.linkedin.com/company/data-for-good-grenoble/\" target=\"_blank\"><img src=\"https://github.com/data-for-good-grenoble/atelier-donnees-geographiques/blob/main/notebooks/D4G_logo.png?raw=1\" width=200px/></a>\n",
        "\n",
        "## 🗓️ Jeudi 15 mai 2024 - 18h45 - <a href=\"https://turbine.coop\" target=\"_blank\">La Turbine</a>\n",
        "\n",
        "### PARTIE N°1 :\n",
        "\n",
        "Pour commencer cet atelier, nous explorerons les packages d'analyse de données géographiques tels que Geopandas, Shapely ou Plotly sur des données en open data. Nous montrerons aussi comment télécharger des données d'OpenStreetMap 🗺️\n",
        "\n",
        "### PARTIE N°2 :     \n",
        "\n",
        "Nous ferons des mises en application sur des données de transports en commun et de sentiers de randonnée en Isère, pour lancer au passage notre prochain projet sur l'accessibilité des randos en bus 🚞💪\n",
        "\n",
        "___"
      ]
    },
    {
      "cell_type": "markdown",
      "id": "5647dfb6",
      "metadata": {
        "id": "5647dfb6"
      },
      "source": [
        "## PARTIE N°1\n",
        "\n",
        "## ⚙️ Installation et import des bibliothèques"
      ]
    },
    {
      "cell_type": "code",
      "execution_count": 16,
      "id": "d88babe0",
      "metadata": {
        "id": "d88babe0"
      },
      "outputs": [],
      "source": [
        "import geopandas as gpd\n",
        "import shapely\n",
        "import pandas as pd\n",
        "import folium\n",
        "import matplotlib.pyplot as plt\n",
        "import plotly.express as px\n",
        "import plotly.graph_objects as go\n",
        "from shapely.geometry import Point, LineString, Polygon"
      ]
    },
    {
      "cell_type": "markdown",
      "id": "3fcbec16",
      "metadata": {
        "id": "3fcbec16"
      },
      "source": [
        "## 📚 Liens vers la documentation des bibliothèques\n",
        "\n",
        "### Manipulation de données\n",
        "\n",
        "- <a href=\"https://pandas.pydata.org\" target=\"_blank\">Pandas</a>\n",
        "\n",
        "Permet de manipuler et d’analyser des données tabulaires avec des structures comme les DataFrames.\n",
        "\n",
        "### Géométrie et données géospatiales\n",
        "\n",
        "- <a href=\"https://shapely.readthedocs.io/en/stable/index.html\" target=\"_blank\">Shapely</a>\n",
        "\n",
        "Fournit des outils pour la manipulation de formes géométriques (points, lignes, polygones).\n",
        "\n",
        "- <a href=\"https://geopandas.org/en/stable/\" target=\"_blank\">GeoPandas</a>\n",
        "\n",
        "Étend Pandas pour gérer des données géographiques (GeoDataFrames) et facilite les opérations géospatiales.\n",
        "\n",
        "### Visualisation de données\n",
        "\n",
        "- <a href=\"https://matplotlib.org\" target=\"_blank\">Matplotlib</a>\n",
        "\n",
        "Bibliothèque de base pour créer des graphiques statiques en 2D de manière personnalisable.\n",
        "\n",
        "- <a href=\"https://plotly.com/python/\" target=\"_blank\">Plotly</a>\n",
        "\n",
        "Permet de créer des visualisations interactives (grâce au Javascript), notamment des cartes et des graphiques 3D.\n",
        "\n",
        "- <a href=\"https://python-visualization.github.io/folium/latest/\" target=\"_blank\">Folium</a>\n",
        "\n",
        "Sert à créer des cartes interactives basées sur Leaflet.js, à partir de données Python."
      ]
    },
    {
      "cell_type": "markdown",
      "id": "3b003a54",
      "metadata": {
        "id": "3b003a54"
      },
      "source": [
        "## 🗂️ Sources et formats de données\n",
        "\n",
        "- [🚌 Navettes saisonnières Transaltitude - Isère](https://transport.data.gouv.fr/datasets/desserte-des-stations-de-ski-iseroises-transaltitude-38)"
      ]
    },
    {
      "cell_type": "markdown",
      "source": [
        "## 🗺️ Visualisation de géométries avec Folium – Exemple sur Grenoble\n",
        "\n",
        "Dans ce code, nous utilisons les bibliothèques Folium et Plotly pour créer une carte interactive centrée sur Grenoble. Nous y ajoutons ensuite différentes formes géométriques courantes utilisées en cartographie :\n",
        "\n",
        "- 📍 Point\n",
        "- ➖ Ligne (LineString)\n",
        "- 🔲 Polygone\n",
        "\n",
        "**Activité :**\n",
        "\n",
        "Modifier la liste `polygon = [...]` afin que le polygone encadre précisément le parc Paul Mistral à Grenoble`"
      ],
      "metadata": {
        "id": "HCAuxDpy_gkd"
      },
      "id": "HCAuxDpy_gkd"
    },
    {
      "cell_type": "code",
      "source": [
        "# Initialiser une carte centrée sur Grenoble\n",
        "m = folium.Map(location=[45.188, 5.724], zoom_start=14)\n",
        "\n",
        "# 1. Point\n",
        "folium.Marker(location=[45.188, 5.724], popup=\"Point\").add_to(m)\n",
        "\n",
        "# 2. Ligne (LineString)\n",
        "folium.PolyLine(\n",
        "    locations=[[45.188, 5.724], [45.189, 5.726], [45.190, 5.728]],\n",
        "    color='red',\n",
        "    weight=2.5,\n",
        "    popup=\"LineString\"\n",
        ").add_to(m)\n",
        "\n",
        "# 3. Polygone\n",
        "polygon = [\n",
        "    [45.186, 5.722],\n",
        "    [45.187, 5.725],\n",
        "    [45.185, 5.727],\n",
        "    [45.184, 5.723],\n",
        "    [45.186, 5.722]\n",
        "]\n",
        "folium.Polygon(\n",
        "    locations=polygon,\n",
        "    color='purple',\n",
        "    fill=True,\n",
        "    fill_color='purple',\n",
        "    popup=\"Polygone\"\n",
        ").add_to(m)\n",
        "\n",
        "# Affichage ou sauvegarde\n",
        "m"
      ],
      "metadata": {
        "id": "H1aMqXuDXdX2",
        "outputId": "069f8241-b3fe-48fd-d598-30cfba25c900",
        "colab": {
          "base_uri": "https://localhost:8080/",
          "height": 958
        }
      },
      "id": "H1aMqXuDXdX2",
      "execution_count": 17,
      "outputs": [
        {
          "output_type": "execute_result",
          "data": {
            "text/plain": [
              "<folium.folium.Map at 0x7f55fd3261d0>"
            ],
            "text/html": [
              "<div style=\"width:100%;\"><div style=\"position:relative;width:100%;height:0;padding-bottom:60%;\"><span style=\"color:#565656\">Make this Notebook Trusted to load map: File -> Trust Notebook</span><iframe srcdoc=\"&lt;!DOCTYPE html&gt;\n",
              "&lt;html&gt;\n",
              "&lt;head&gt;\n",
              "    \n",
              "    &lt;meta http-equiv=&quot;content-type&quot; content=&quot;text/html; charset=UTF-8&quot; /&gt;\n",
              "    \n",
              "        &lt;script&gt;\n",
              "            L_NO_TOUCH = false;\n",
              "            L_DISABLE_3D = false;\n",
              "        &lt;/script&gt;\n",
              "    \n",
              "    &lt;style&gt;html, body {width: 100%;height: 100%;margin: 0;padding: 0;}&lt;/style&gt;\n",
              "    &lt;style&gt;#map {position:absolute;top:0;bottom:0;right:0;left:0;}&lt;/style&gt;\n",
              "    &lt;script src=&quot;https://cdn.jsdelivr.net/npm/leaflet@1.9.3/dist/leaflet.js&quot;&gt;&lt;/script&gt;\n",
              "    &lt;script src=&quot;https://code.jquery.com/jquery-3.7.1.min.js&quot;&gt;&lt;/script&gt;\n",
              "    &lt;script src=&quot;https://cdn.jsdelivr.net/npm/bootstrap@5.2.2/dist/js/bootstrap.bundle.min.js&quot;&gt;&lt;/script&gt;\n",
              "    &lt;script src=&quot;https://cdnjs.cloudflare.com/ajax/libs/Leaflet.awesome-markers/2.0.2/leaflet.awesome-markers.js&quot;&gt;&lt;/script&gt;\n",
              "    &lt;link rel=&quot;stylesheet&quot; href=&quot;https://cdn.jsdelivr.net/npm/leaflet@1.9.3/dist/leaflet.css&quot;/&gt;\n",
              "    &lt;link rel=&quot;stylesheet&quot; href=&quot;https://cdn.jsdelivr.net/npm/bootstrap@5.2.2/dist/css/bootstrap.min.css&quot;/&gt;\n",
              "    &lt;link rel=&quot;stylesheet&quot; href=&quot;https://netdna.bootstrapcdn.com/bootstrap/3.0.0/css/bootstrap-glyphicons.css&quot;/&gt;\n",
              "    &lt;link rel=&quot;stylesheet&quot; href=&quot;https://cdn.jsdelivr.net/npm/@fortawesome/fontawesome-free@6.2.0/css/all.min.css&quot;/&gt;\n",
              "    &lt;link rel=&quot;stylesheet&quot; href=&quot;https://cdnjs.cloudflare.com/ajax/libs/Leaflet.awesome-markers/2.0.2/leaflet.awesome-markers.css&quot;/&gt;\n",
              "    &lt;link rel=&quot;stylesheet&quot; href=&quot;https://cdn.jsdelivr.net/gh/python-visualization/folium/folium/templates/leaflet.awesome.rotate.min.css&quot;/&gt;\n",
              "    \n",
              "            &lt;meta name=&quot;viewport&quot; content=&quot;width=device-width,\n",
              "                initial-scale=1.0, maximum-scale=1.0, user-scalable=no&quot; /&gt;\n",
              "            &lt;style&gt;\n",
              "                #map_3d432dd881a917cd8152f200471f5dcd {\n",
              "                    position: relative;\n",
              "                    width: 100.0%;\n",
              "                    height: 100.0%;\n",
              "                    left: 0.0%;\n",
              "                    top: 0.0%;\n",
              "                }\n",
              "                .leaflet-container { font-size: 1rem; }\n",
              "            &lt;/style&gt;\n",
              "        \n",
              "&lt;/head&gt;\n",
              "&lt;body&gt;\n",
              "    \n",
              "    \n",
              "            &lt;div class=&quot;folium-map&quot; id=&quot;map_3d432dd881a917cd8152f200471f5dcd&quot; &gt;&lt;/div&gt;\n",
              "        \n",
              "&lt;/body&gt;\n",
              "&lt;script&gt;\n",
              "    \n",
              "    \n",
              "            var map_3d432dd881a917cd8152f200471f5dcd = L.map(\n",
              "                &quot;map_3d432dd881a917cd8152f200471f5dcd&quot;,\n",
              "                {\n",
              "                    center: [45.188, 5.724],\n",
              "                    crs: L.CRS.EPSG3857,\n",
              "                    ...{\n",
              "  &quot;zoom&quot;: 14,\n",
              "  &quot;zoomControl&quot;: true,\n",
              "  &quot;preferCanvas&quot;: false,\n",
              "}\n",
              "\n",
              "                }\n",
              "            );\n",
              "\n",
              "            \n",
              "\n",
              "        \n",
              "    \n",
              "            var tile_layer_827291ec5a4449ee2fd6782638b585e8 = L.tileLayer(\n",
              "                &quot;https://tile.openstreetmap.org/{z}/{x}/{y}.png&quot;,\n",
              "                {\n",
              "  &quot;minZoom&quot;: 0,\n",
              "  &quot;maxZoom&quot;: 19,\n",
              "  &quot;maxNativeZoom&quot;: 19,\n",
              "  &quot;noWrap&quot;: false,\n",
              "  &quot;attribution&quot;: &quot;\\u0026copy; \\u003ca href=\\&quot;https://www.openstreetmap.org/copyright\\&quot;\\u003eOpenStreetMap\\u003c/a\\u003e contributors&quot;,\n",
              "  &quot;subdomains&quot;: &quot;abc&quot;,\n",
              "  &quot;detectRetina&quot;: false,\n",
              "  &quot;tms&quot;: false,\n",
              "  &quot;opacity&quot;: 1,\n",
              "}\n",
              "\n",
              "            );\n",
              "        \n",
              "    \n",
              "            tile_layer_827291ec5a4449ee2fd6782638b585e8.addTo(map_3d432dd881a917cd8152f200471f5dcd);\n",
              "        \n",
              "    \n",
              "            var marker_4e4c280136367bc86d02944b17657bdb = L.marker(\n",
              "                [45.188, 5.724],\n",
              "                {\n",
              "}\n",
              "            ).addTo(map_3d432dd881a917cd8152f200471f5dcd);\n",
              "        \n",
              "    \n",
              "        var popup_a64798dc8c1909107ec9db3b0048ec9b = L.popup({\n",
              "  &quot;maxWidth&quot;: &quot;100%&quot;,\n",
              "});\n",
              "\n",
              "        \n",
              "            \n",
              "                var html_aea800ecc73592b0864aaf959bd26002 = $(`&lt;div id=&quot;html_aea800ecc73592b0864aaf959bd26002&quot; style=&quot;width: 100.0%; height: 100.0%;&quot;&gt;Point&lt;/div&gt;`)[0];\n",
              "                popup_a64798dc8c1909107ec9db3b0048ec9b.setContent(html_aea800ecc73592b0864aaf959bd26002);\n",
              "            \n",
              "        \n",
              "\n",
              "        marker_4e4c280136367bc86d02944b17657bdb.bindPopup(popup_a64798dc8c1909107ec9db3b0048ec9b)\n",
              "        ;\n",
              "\n",
              "        \n",
              "    \n",
              "    \n",
              "            var poly_line_b2c5c9ff5f637d16b58c72c5df06b143 = L.polyline(\n",
              "                [[45.188, 5.724], [45.189, 5.726], [45.19, 5.728]],\n",
              "                {&quot;bubblingMouseEvents&quot;: true, &quot;color&quot;: &quot;red&quot;, &quot;dashArray&quot;: null, &quot;dashOffset&quot;: null, &quot;fill&quot;: false, &quot;fillColor&quot;: &quot;red&quot;, &quot;fillOpacity&quot;: 0.2, &quot;fillRule&quot;: &quot;evenodd&quot;, &quot;lineCap&quot;: &quot;round&quot;, &quot;lineJoin&quot;: &quot;round&quot;, &quot;noClip&quot;: false, &quot;opacity&quot;: 1.0, &quot;smoothFactor&quot;: 1.0, &quot;stroke&quot;: true, &quot;weight&quot;: 2.5}\n",
              "            ).addTo(map_3d432dd881a917cd8152f200471f5dcd);\n",
              "        \n",
              "    \n",
              "        var popup_cf31137f8e86f96f2a1601596f07c71c = L.popup({\n",
              "  &quot;maxWidth&quot;: &quot;100%&quot;,\n",
              "});\n",
              "\n",
              "        \n",
              "            \n",
              "                var html_6f8e5c59df72147f3c6b7f7a947686cc = $(`&lt;div id=&quot;html_6f8e5c59df72147f3c6b7f7a947686cc&quot; style=&quot;width: 100.0%; height: 100.0%;&quot;&gt;LineString&lt;/div&gt;`)[0];\n",
              "                popup_cf31137f8e86f96f2a1601596f07c71c.setContent(html_6f8e5c59df72147f3c6b7f7a947686cc);\n",
              "            \n",
              "        \n",
              "\n",
              "        poly_line_b2c5c9ff5f637d16b58c72c5df06b143.bindPopup(popup_cf31137f8e86f96f2a1601596f07c71c)\n",
              "        ;\n",
              "\n",
              "        \n",
              "    \n",
              "    \n",
              "            var polygon_c53e22aa716e8c5e3fc139f27049783b = L.polygon(\n",
              "                [[45.186, 5.722], [45.187, 5.725], [45.185, 5.727], [45.184, 5.723], [45.186, 5.722]],\n",
              "                {&quot;bubblingMouseEvents&quot;: true, &quot;color&quot;: &quot;purple&quot;, &quot;dashArray&quot;: null, &quot;dashOffset&quot;: null, &quot;fill&quot;: true, &quot;fillColor&quot;: &quot;purple&quot;, &quot;fillOpacity&quot;: 0.2, &quot;fillRule&quot;: &quot;evenodd&quot;, &quot;lineCap&quot;: &quot;round&quot;, &quot;lineJoin&quot;: &quot;round&quot;, &quot;noClip&quot;: false, &quot;opacity&quot;: 1.0, &quot;smoothFactor&quot;: 1.0, &quot;stroke&quot;: true, &quot;weight&quot;: 3}\n",
              "            ).addTo(map_3d432dd881a917cd8152f200471f5dcd);\n",
              "        \n",
              "    \n",
              "        var popup_57b51e28063a3a1a9e5e6ca01a90c1d8 = L.popup({\n",
              "  &quot;maxWidth&quot;: &quot;100%&quot;,\n",
              "});\n",
              "\n",
              "        \n",
              "            \n",
              "                var html_e282eef4dd3ddac23abe51796febfd2a = $(`&lt;div id=&quot;html_e282eef4dd3ddac23abe51796febfd2a&quot; style=&quot;width: 100.0%; height: 100.0%;&quot;&gt;Polygone&lt;/div&gt;`)[0];\n",
              "                popup_57b51e28063a3a1a9e5e6ca01a90c1d8.setContent(html_e282eef4dd3ddac23abe51796febfd2a);\n",
              "            \n",
              "        \n",
              "\n",
              "        polygon_c53e22aa716e8c5e3fc139f27049783b.bindPopup(popup_57b51e28063a3a1a9e5e6ca01a90c1d8)\n",
              "        ;\n",
              "\n",
              "        \n",
              "    \n",
              "&lt;/script&gt;\n",
              "&lt;/html&gt;\" style=\"position:absolute;width:100%;height:100%;left:0;top:0;border:none !important;\" allowfullscreen webkitallowfullscreen mozallowfullscreen></iframe></div></div>"
            ]
          },
          "metadata": {},
          "execution_count": 17
        }
      ]
    },
    {
      "cell_type": "code",
      "source": [
        "# 1. Point\n",
        "point = Point(5.724, 45.188)\n",
        "\n",
        "# 2. Ligne (LineString)\n",
        "line = LineString([\n",
        "    (5.724, 45.188),\n",
        "    (5.726, 45.189),\n",
        "    (5.728, 45.190)\n",
        "])\n",
        "\n",
        "# 3. Polygone\n",
        "polygon = Polygon([\n",
        "    (5.722, 45.186),\n",
        "    (5.725, 45.187),\n",
        "    (5.727, 45.185),\n",
        "    (5.723, 45.184),\n",
        "    (5.722, 45.186)\n",
        "])\n",
        "\n",
        "fig = go.Figure()\n",
        "\n",
        "# 1. Point\n",
        "fig.add_trace(go.Scattermapbox(\n",
        "    lon=[point.x], lat=[point.y],\n",
        "    mode='markers',\n",
        "    marker=dict(size=10, color='blue'),\n",
        "    name='Point'\n",
        "))\n",
        "\n",
        "# 2. Ligne (LineString)\n",
        "fig.add_trace(go.Scattermapbox(\n",
        "    lon=[coord[0] for coord in line.coords],\n",
        "    lat=[coord[1] for coord in line.coords],\n",
        "    mode='lines',\n",
        "    line=dict(width=4, color='red'),\n",
        "    name='LineString'\n",
        "))\n",
        "\n",
        "# 3. Polygone\n",
        "fig.add_trace(go.Scattermapbox(\n",
        "    lon=[coord[0] for coord in polygon.exterior.coords],\n",
        "    lat=[coord[1] for coord in polygon.exterior.coords],\n",
        "    mode='lines',\n",
        "    fill='toself',\n",
        "    fillcolor='rgba(128,0,128,0.3)',\n",
        "    line=dict(color='purple'),\n",
        "    name='Polygon'\n",
        "))\n",
        "\n",
        "# 3. Configuration de la carte\n",
        "fig.update_layout(\n",
        "    mapbox_style='open-street-map',\n",
        "    mapbox_zoom=14,\n",
        "    mapbox_center={'lat': 45.188, 'lon': 5.724},\n",
        "    margin=dict(l=0, r=0, t=0, b=0)\n",
        ")\n",
        "\n",
        "fig.show()"
      ],
      "metadata": {
        "id": "MHoHmJp3bsai",
        "outputId": "d3c253f3-9b77-4f1e-b8a8-b5709deb8963",
        "colab": {
          "base_uri": "https://localhost:8080/",
          "height": 542
        }
      },
      "id": "MHoHmJp3bsai",
      "execution_count": 18,
      "outputs": [
        {
          "output_type": "display_data",
          "data": {
            "text/html": [
              "<html>\n",
              "<head><meta charset=\"utf-8\" /></head>\n",
              "<body>\n",
              "    <div>            <script src=\"https://cdnjs.cloudflare.com/ajax/libs/mathjax/2.7.5/MathJax.js?config=TeX-AMS-MML_SVG\"></script><script type=\"text/javascript\">if (window.MathJax && window.MathJax.Hub && window.MathJax.Hub.Config) {window.MathJax.Hub.Config({SVG: {font: \"STIX-Web\"}});}</script>                <script type=\"text/javascript\">window.PlotlyConfig = {MathJaxConfig: 'local'};</script>\n",
              "        <script charset=\"utf-8\" src=\"https://cdn.plot.ly/plotly-2.35.2.min.js\"></script>                <div id=\"5c498744-b2de-4de8-a3e3-2a4c0aedb76a\" class=\"plotly-graph-div\" style=\"height:525px; width:100%;\"></div>            <script type=\"text/javascript\">                                    window.PLOTLYENV=window.PLOTLYENV || {};                                    if (document.getElementById(\"5c498744-b2de-4de8-a3e3-2a4c0aedb76a\")) {                    Plotly.newPlot(                        \"5c498744-b2de-4de8-a3e3-2a4c0aedb76a\",                        [{\"lat\":[45.188],\"lon\":[5.724],\"marker\":{\"color\":\"blue\",\"size\":10},\"mode\":\"markers\",\"name\":\"Point\",\"type\":\"scattermapbox\"},{\"lat\":[45.188,45.189,45.19],\"line\":{\"color\":\"red\",\"width\":4},\"lon\":[5.724,5.726,5.728],\"mode\":\"lines\",\"name\":\"LineString\",\"type\":\"scattermapbox\"},{\"fill\":\"toself\",\"fillcolor\":\"rgba(128,0,128,0.3)\",\"lat\":[45.186,45.187,45.185,45.184,45.186],\"line\":{\"color\":\"purple\"},\"lon\":[5.722,5.725,5.727,5.723,5.722],\"mode\":\"lines\",\"name\":\"Polygon\",\"type\":\"scattermapbox\"}],                        {\"template\":{\"data\":{\"histogram2dcontour\":[{\"type\":\"histogram2dcontour\",\"colorbar\":{\"outlinewidth\":0,\"ticks\":\"\"},\"colorscale\":[[0.0,\"#0d0887\"],[0.1111111111111111,\"#46039f\"],[0.2222222222222222,\"#7201a8\"],[0.3333333333333333,\"#9c179e\"],[0.4444444444444444,\"#bd3786\"],[0.5555555555555556,\"#d8576b\"],[0.6666666666666666,\"#ed7953\"],[0.7777777777777778,\"#fb9f3a\"],[0.8888888888888888,\"#fdca26\"],[1.0,\"#f0f921\"]]}],\"choropleth\":[{\"type\":\"choropleth\",\"colorbar\":{\"outlinewidth\":0,\"ticks\":\"\"}}],\"histogram2d\":[{\"type\":\"histogram2d\",\"colorbar\":{\"outlinewidth\":0,\"ticks\":\"\"},\"colorscale\":[[0.0,\"#0d0887\"],[0.1111111111111111,\"#46039f\"],[0.2222222222222222,\"#7201a8\"],[0.3333333333333333,\"#9c179e\"],[0.4444444444444444,\"#bd3786\"],[0.5555555555555556,\"#d8576b\"],[0.6666666666666666,\"#ed7953\"],[0.7777777777777778,\"#fb9f3a\"],[0.8888888888888888,\"#fdca26\"],[1.0,\"#f0f921\"]]}],\"heatmap\":[{\"type\":\"heatmap\",\"colorbar\":{\"outlinewidth\":0,\"ticks\":\"\"},\"colorscale\":[[0.0,\"#0d0887\"],[0.1111111111111111,\"#46039f\"],[0.2222222222222222,\"#7201a8\"],[0.3333333333333333,\"#9c179e\"],[0.4444444444444444,\"#bd3786\"],[0.5555555555555556,\"#d8576b\"],[0.6666666666666666,\"#ed7953\"],[0.7777777777777778,\"#fb9f3a\"],[0.8888888888888888,\"#fdca26\"],[1.0,\"#f0f921\"]]}],\"heatmapgl\":[{\"type\":\"heatmapgl\",\"colorbar\":{\"outlinewidth\":0,\"ticks\":\"\"},\"colorscale\":[[0.0,\"#0d0887\"],[0.1111111111111111,\"#46039f\"],[0.2222222222222222,\"#7201a8\"],[0.3333333333333333,\"#9c179e\"],[0.4444444444444444,\"#bd3786\"],[0.5555555555555556,\"#d8576b\"],[0.6666666666666666,\"#ed7953\"],[0.7777777777777778,\"#fb9f3a\"],[0.8888888888888888,\"#fdca26\"],[1.0,\"#f0f921\"]]}],\"contourcarpet\":[{\"type\":\"contourcarpet\",\"colorbar\":{\"outlinewidth\":0,\"ticks\":\"\"}}],\"contour\":[{\"type\":\"contour\",\"colorbar\":{\"outlinewidth\":0,\"ticks\":\"\"},\"colorscale\":[[0.0,\"#0d0887\"],[0.1111111111111111,\"#46039f\"],[0.2222222222222222,\"#7201a8\"],[0.3333333333333333,\"#9c179e\"],[0.4444444444444444,\"#bd3786\"],[0.5555555555555556,\"#d8576b\"],[0.6666666666666666,\"#ed7953\"],[0.7777777777777778,\"#fb9f3a\"],[0.8888888888888888,\"#fdca26\"],[1.0,\"#f0f921\"]]}],\"surface\":[{\"type\":\"surface\",\"colorbar\":{\"outlinewidth\":0,\"ticks\":\"\"},\"colorscale\":[[0.0,\"#0d0887\"],[0.1111111111111111,\"#46039f\"],[0.2222222222222222,\"#7201a8\"],[0.3333333333333333,\"#9c179e\"],[0.4444444444444444,\"#bd3786\"],[0.5555555555555556,\"#d8576b\"],[0.6666666666666666,\"#ed7953\"],[0.7777777777777778,\"#fb9f3a\"],[0.8888888888888888,\"#fdca26\"],[1.0,\"#f0f921\"]]}],\"mesh3d\":[{\"type\":\"mesh3d\",\"colorbar\":{\"outlinewidth\":0,\"ticks\":\"\"}}],\"scatter\":[{\"fillpattern\":{\"fillmode\":\"overlay\",\"size\":10,\"solidity\":0.2},\"type\":\"scatter\"}],\"parcoords\":[{\"type\":\"parcoords\",\"line\":{\"colorbar\":{\"outlinewidth\":0,\"ticks\":\"\"}}}],\"scatterpolargl\":[{\"type\":\"scatterpolargl\",\"marker\":{\"colorbar\":{\"outlinewidth\":0,\"ticks\":\"\"}}}],\"bar\":[{\"error_x\":{\"color\":\"#2a3f5f\"},\"error_y\":{\"color\":\"#2a3f5f\"},\"marker\":{\"line\":{\"color\":\"#E5ECF6\",\"width\":0.5},\"pattern\":{\"fillmode\":\"overlay\",\"size\":10,\"solidity\":0.2}},\"type\":\"bar\"}],\"scattergeo\":[{\"type\":\"scattergeo\",\"marker\":{\"colorbar\":{\"outlinewidth\":0,\"ticks\":\"\"}}}],\"scatterpolar\":[{\"type\":\"scatterpolar\",\"marker\":{\"colorbar\":{\"outlinewidth\":0,\"ticks\":\"\"}}}],\"histogram\":[{\"marker\":{\"pattern\":{\"fillmode\":\"overlay\",\"size\":10,\"solidity\":0.2}},\"type\":\"histogram\"}],\"scattergl\":[{\"type\":\"scattergl\",\"marker\":{\"colorbar\":{\"outlinewidth\":0,\"ticks\":\"\"}}}],\"scatter3d\":[{\"type\":\"scatter3d\",\"line\":{\"colorbar\":{\"outlinewidth\":0,\"ticks\":\"\"}},\"marker\":{\"colorbar\":{\"outlinewidth\":0,\"ticks\":\"\"}}}],\"scattermapbox\":[{\"type\":\"scattermapbox\",\"marker\":{\"colorbar\":{\"outlinewidth\":0,\"ticks\":\"\"}}}],\"scatterternary\":[{\"type\":\"scatterternary\",\"marker\":{\"colorbar\":{\"outlinewidth\":0,\"ticks\":\"\"}}}],\"scattercarpet\":[{\"type\":\"scattercarpet\",\"marker\":{\"colorbar\":{\"outlinewidth\":0,\"ticks\":\"\"}}}],\"carpet\":[{\"aaxis\":{\"endlinecolor\":\"#2a3f5f\",\"gridcolor\":\"white\",\"linecolor\":\"white\",\"minorgridcolor\":\"white\",\"startlinecolor\":\"#2a3f5f\"},\"baxis\":{\"endlinecolor\":\"#2a3f5f\",\"gridcolor\":\"white\",\"linecolor\":\"white\",\"minorgridcolor\":\"white\",\"startlinecolor\":\"#2a3f5f\"},\"type\":\"carpet\"}],\"table\":[{\"cells\":{\"fill\":{\"color\":\"#EBF0F8\"},\"line\":{\"color\":\"white\"}},\"header\":{\"fill\":{\"color\":\"#C8D4E3\"},\"line\":{\"color\":\"white\"}},\"type\":\"table\"}],\"barpolar\":[{\"marker\":{\"line\":{\"color\":\"#E5ECF6\",\"width\":0.5},\"pattern\":{\"fillmode\":\"overlay\",\"size\":10,\"solidity\":0.2}},\"type\":\"barpolar\"}],\"pie\":[{\"automargin\":true,\"type\":\"pie\"}]},\"layout\":{\"autotypenumbers\":\"strict\",\"colorway\":[\"#636efa\",\"#EF553B\",\"#00cc96\",\"#ab63fa\",\"#FFA15A\",\"#19d3f3\",\"#FF6692\",\"#B6E880\",\"#FF97FF\",\"#FECB52\"],\"font\":{\"color\":\"#2a3f5f\"},\"hovermode\":\"closest\",\"hoverlabel\":{\"align\":\"left\"},\"paper_bgcolor\":\"white\",\"plot_bgcolor\":\"#E5ECF6\",\"polar\":{\"bgcolor\":\"#E5ECF6\",\"angularaxis\":{\"gridcolor\":\"white\",\"linecolor\":\"white\",\"ticks\":\"\"},\"radialaxis\":{\"gridcolor\":\"white\",\"linecolor\":\"white\",\"ticks\":\"\"}},\"ternary\":{\"bgcolor\":\"#E5ECF6\",\"aaxis\":{\"gridcolor\":\"white\",\"linecolor\":\"white\",\"ticks\":\"\"},\"baxis\":{\"gridcolor\":\"white\",\"linecolor\":\"white\",\"ticks\":\"\"},\"caxis\":{\"gridcolor\":\"white\",\"linecolor\":\"white\",\"ticks\":\"\"}},\"coloraxis\":{\"colorbar\":{\"outlinewidth\":0,\"ticks\":\"\"}},\"colorscale\":{\"sequential\":[[0.0,\"#0d0887\"],[0.1111111111111111,\"#46039f\"],[0.2222222222222222,\"#7201a8\"],[0.3333333333333333,\"#9c179e\"],[0.4444444444444444,\"#bd3786\"],[0.5555555555555556,\"#d8576b\"],[0.6666666666666666,\"#ed7953\"],[0.7777777777777778,\"#fb9f3a\"],[0.8888888888888888,\"#fdca26\"],[1.0,\"#f0f921\"]],\"sequentialminus\":[[0.0,\"#0d0887\"],[0.1111111111111111,\"#46039f\"],[0.2222222222222222,\"#7201a8\"],[0.3333333333333333,\"#9c179e\"],[0.4444444444444444,\"#bd3786\"],[0.5555555555555556,\"#d8576b\"],[0.6666666666666666,\"#ed7953\"],[0.7777777777777778,\"#fb9f3a\"],[0.8888888888888888,\"#fdca26\"],[1.0,\"#f0f921\"]],\"diverging\":[[0,\"#8e0152\"],[0.1,\"#c51b7d\"],[0.2,\"#de77ae\"],[0.3,\"#f1b6da\"],[0.4,\"#fde0ef\"],[0.5,\"#f7f7f7\"],[0.6,\"#e6f5d0\"],[0.7,\"#b8e186\"],[0.8,\"#7fbc41\"],[0.9,\"#4d9221\"],[1,\"#276419\"]]},\"xaxis\":{\"gridcolor\":\"white\",\"linecolor\":\"white\",\"ticks\":\"\",\"title\":{\"standoff\":15},\"zerolinecolor\":\"white\",\"automargin\":true,\"zerolinewidth\":2},\"yaxis\":{\"gridcolor\":\"white\",\"linecolor\":\"white\",\"ticks\":\"\",\"title\":{\"standoff\":15},\"zerolinecolor\":\"white\",\"automargin\":true,\"zerolinewidth\":2},\"scene\":{\"xaxis\":{\"backgroundcolor\":\"#E5ECF6\",\"gridcolor\":\"white\",\"linecolor\":\"white\",\"showbackground\":true,\"ticks\":\"\",\"zerolinecolor\":\"white\",\"gridwidth\":2},\"yaxis\":{\"backgroundcolor\":\"#E5ECF6\",\"gridcolor\":\"white\",\"linecolor\":\"white\",\"showbackground\":true,\"ticks\":\"\",\"zerolinecolor\":\"white\",\"gridwidth\":2},\"zaxis\":{\"backgroundcolor\":\"#E5ECF6\",\"gridcolor\":\"white\",\"linecolor\":\"white\",\"showbackground\":true,\"ticks\":\"\",\"zerolinecolor\":\"white\",\"gridwidth\":2}},\"shapedefaults\":{\"line\":{\"color\":\"#2a3f5f\"}},\"annotationdefaults\":{\"arrowcolor\":\"#2a3f5f\",\"arrowhead\":0,\"arrowwidth\":1},\"geo\":{\"bgcolor\":\"white\",\"landcolor\":\"#E5ECF6\",\"subunitcolor\":\"white\",\"showland\":true,\"showlakes\":true,\"lakecolor\":\"white\"},\"title\":{\"x\":0.05},\"mapbox\":{\"style\":\"light\"}}},\"mapbox\":{\"center\":{\"lat\":45.188,\"lon\":5.724},\"style\":\"open-street-map\",\"zoom\":14},\"margin\":{\"l\":0,\"r\":0,\"t\":0,\"b\":0}},                        {\"responsive\": true}                    ).then(function(){\n",
              "                            \n",
              "var gd = document.getElementById('5c498744-b2de-4de8-a3e3-2a4c0aedb76a');\n",
              "var x = new MutationObserver(function (mutations, observer) {{\n",
              "        var display = window.getComputedStyle(gd).display;\n",
              "        if (!display || display === 'none') {{\n",
              "            console.log([gd, 'removed!']);\n",
              "            Plotly.purge(gd);\n",
              "            observer.disconnect();\n",
              "        }}\n",
              "}});\n",
              "\n",
              "// Listen for the removal of the full notebook cells\n",
              "var notebookContainer = gd.closest('#notebook-container');\n",
              "if (notebookContainer) {{\n",
              "    x.observe(notebookContainer, {childList: true});\n",
              "}}\n",
              "\n",
              "// Listen for the clearing of the current output cell\n",
              "var outputEl = gd.closest('.output');\n",
              "if (outputEl) {{\n",
              "    x.observe(outputEl, {childList: true});\n",
              "}}\n",
              "\n",
              "                        })                };                            </script>        </div>\n",
              "</body>\n",
              "</html>"
            ]
          },
          "metadata": {}
        }
      ]
    },
    {
      "cell_type": "markdown",
      "id": "d9577d4a",
      "metadata": {
        "id": "d9577d4a"
      },
      "source": [
        "## 🗺️ Récupération de données GeoJSON\n",
        "\n",
        "Le projet Github france-geojson propose au format GeoJSON les cartes des **régions, départements, arrondissements, cantons et communes de France (métropole et départements d'outre-mer)** à partir des données publiées par l'<a href=\"https://www.ign.fr\" target=\"_blank\">IGN</a> et l'<a href=\"https://www.insee.fr/fr/accueil\" target=\"_blank\">INSEE</a>. Lien vers le site : https://france-geojson.gregoiredavid.fr\n",
        "\n",
        "**Activité :**\n",
        "\n",
        "- Récupérer l'url du fichier **GeoJSON** de l'**isère** sur le site france-geojson\n",
        "- Avec <a href=\"https://geopandas.org/en/stable/\" target=\"_blank\">GeoPandas</a>, insérer les données dans un **GeoDataframe** (à l'aide de la fonction <a href=\"https://geopandas.org/en/stable/docs/reference/api/geopandas.read_file.html\" target=\"_blank\">geopandas.read_file()</a>)\n",
        "- Afficher ces données sur une **carte** (avec Matplotlib ou Folium) avec **toutes bonnes pratiques de cartographie** (à l'aide de la méthode <a href=\"https://geopandas.org/en/stable/docs/reference/api/geopandas.GeoDataFrame.plot.html\" target=\"_blank\">geopandas.GeoDataFrame.plot()</a> ou de la méthode <a href=\"https://geopandas.org/en/stable/docs/reference/api/geopandas.GeoDataFrame.explore.html\" target=\"_blank\">geopandas.GeoDataFrame.explore()</a> )"
      ]
    },
    {
      "cell_type": "code",
      "execution_count": null,
      "id": "9698ff90",
      "metadata": {
        "id": "9698ff90"
      },
      "outputs": [],
      "source": [
        "# A COMPLETER"
      ]
    },
    {
      "cell_type": "markdown",
      "id": "04674a91",
      "metadata": {
        "id": "04674a91"
      },
      "source": [
        "## 🌍 Choix du système de coordonnées de référence (CRS)\n",
        "\n",
        "La propriété <a href=\"https://geopandas.org/en/stable/docs/reference/api/geopandas.GeoSeries.area.html\" target=\"_blank\">geopandas.GeoSeries.area</a> permet de récupérer la surface des élèments d'une géométrie.\n",
        "\n",
        "- Récupérer la **surface du département de l'isère**. Pourquoi cet avertissement ? (aide avec la propiété <a href=\"https://geopandas.org/en/stable/docs/reference/api/geopandas.GeoDataFrame.crs.html\" target=\"_blank\">geopandas.GeoDataFrame.crs</a>)\n",
        "- Changer de système de coordonnées de référence pour passer en **Web Mercator (EPSG:3857)** grâce à la méthode <a href=\"https://geopandas.org/en/stable/docs/reference/api/geopandas.GeoDataFrame.to_crs.html\" target=\"_blank\">geopandas.GeoDataFrame.to_crs()</a>. Est-ce la bonne valeur de la surface ? Pourquoi ?\n",
        "- Changer de système de coordonnées de référence pour passer en **RGF93 / Lambert-93 (EPSG:2154)**"
      ]
    },
    {
      "cell_type": "code",
      "execution_count": null,
      "id": "d8e8e505",
      "metadata": {
        "id": "d8e8e505"
      },
      "outputs": [],
      "source": [
        "# A COMPLETER"
      ]
    },
    {
      "cell_type": "markdown",
      "id": "11c433e4",
      "metadata": {
        "id": "11c433e4"
      },
      "source": [
        "## 🚌 Affichage des navettes saisonnières Transaltitude - Isère\n",
        "\n",
        "Les **navettes hivernales desservant 14 stations de ski de l’Isère** peuvent être récupérées à cette adresse au format **GeoJSON** : https://transport.data.gouv.fr/datasets/desserte-des-stations-de-ski-iseroises-transaltitude-38\n",
        "\n",
        "Comme précédemment :\n",
        "\n",
        "- **Récupérer** les données dans un **GeoDataframe**\n",
        "- **Afficher** les données sur une **carte**"
      ]
    },
    {
      "cell_type": "code",
      "source": [
        "# A COMPLETER"
      ],
      "metadata": {
        "id": "SROhybIZVJnm"
      },
      "id": "SROhybIZVJnm",
      "execution_count": 9,
      "outputs": []
    },
    {
      "cell_type": "markdown",
      "source": [
        "## Récupération de données depuis Open Street Map avec Overpass Turbo"
      ],
      "metadata": {
        "id": "MrqyurMXVvh-"
      },
      "id": "MrqyurMXVvh-"
    },
    {
      "cell_type": "markdown",
      "source": [
        "## PARTIE N°2\n",
        "\n"
      ],
      "metadata": {
        "id": "yVqJUrDqVUG_"
      },
      "id": "yVqJUrDqVUG_"
    }
  ],
  "metadata": {
    "kernelspec": {
      "display_name": "Python 3 (ipykernel)",
      "language": "python",
      "name": "python3"
    },
    "language_info": {
      "codemirror_mode": {
        "name": "ipython",
        "version": 3
      },
      "file_extension": ".py",
      "mimetype": "text/x-python",
      "name": "python",
      "nbconvert_exporter": "python",
      "pygments_lexer": "ipython3",
      "version": "3.11.5"
    },
    "colab": {
      "provenance": []
    }
  },
  "nbformat": 4,
  "nbformat_minor": 5
}