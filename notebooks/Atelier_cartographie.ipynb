{
 "cells": [
  {
   "cell_type": "markdown",
   "id": "c3ca3c31",
   "metadata": {
    "id": "c3ca3c31"
   },
   "source": [
    "# 🗺️ Atelier Analyse de données géographiques\n",
    "\n",
    "<a href=\"https://www.linkedin.com/company/data-for-good-grenoble/\" target=\"_blank\"><img src=\"https://github.com/data-for-good-grenoble/atelier-donnees-geographiques/blob/main/notebooks/D4G_logo.png?raw=1\" width=200px/></a>\n",
    "\n",
    "## 🗓️ Jeudi 15 mai 2024 - 18h45 - <a href=\"https://turbine.coop\" target=\"_blank\">La Turbine</a>\n",
    "\n",
    "### PARTIE N°1 :\n",
    "\n",
    "Pour commencer cet atelier, nous explorerons les packages d'analyse de données géographiques tels que Geopandas, Shapely ou Plotly sur des données en open data. Nous montrerons aussi comment télécharger des données d'OpenStreetMap 🗺️\n",
    "\n",
    "### PARTIE N°2 :     \n",
    "\n",
    "Nous ferons des mises en application sur des données de transports en commun et de sentiers de randonnée en Isère, pour lancer au passage notre prochain projet sur l'accessibilité des randos en bus 🚞💪\n",
    "\n",
    "___"
   ]
  },
  {
   "cell_type": "markdown",
   "id": "5647dfb6",
   "metadata": {
    "id": "5647dfb6"
   },
   "source": [
    "## PARTIE N°1\n",
    "\n",
    "## ⚙️ Installation et import des bibliothèques"
   ]
  },
  {
   "cell_type": "code",
   "execution_count": null,
   "id": "d88babe0",
   "metadata": {
    "id": "d88babe0"
   },
   "outputs": [],
   "source": [
    "import geopandas as gpd\n",
    "import shapely\n",
    "import pandas as pd\n",
    "import numpy as np\n",
    "import folium\n",
    "import matplotlib.pyplot as plt\n",
    "import plotly.express as px\n",
    "import plotly.graph_objects as go\n",
    "from shapely.geometry import Point, LineString, Polygon, LinearRing"
   ]
  },
  {
   "cell_type": "markdown",
   "id": "3fcbec16",
   "metadata": {
    "id": "3fcbec16"
   },
   "source": [
    "## 📚 Liens vers la documentation des bibliothèques\n",
    "\n",
    "### Manipulation de données\n",
    "\n",
    "- <a href=\"https://pandas.pydata.org\" target=\"_blank\">Pandas</a>\n",
    "\n",
    "Permet de manipuler et d’analyser des données tabulaires avec des structures comme les DataFrames.\n",
    "\n",
    "### Géométrie et données géospatiales\n",
    "\n",
    "- <a href=\"https://shapely.readthedocs.io/en/stable/index.html\" target=\"_blank\">Shapely</a>\n",
    "\n",
    "Fournit des outils pour la manipulation de formes géométriques (points, lignes, polygones).\n",
    "\n",
    "- <a href=\"https://geopandas.org/en/stable/\" target=\"_blank\">GeoPandas</a>\n",
    "\n",
    "Étend Pandas pour gérer des données géographiques (GeoDataFrames) et facilite les opérations géospatiales.\n",
    "\n",
    "### Visualisation de données\n",
    "\n",
    "- <a href=\"https://matplotlib.org\" target=\"_blank\">Matplotlib</a>\n",
    "\n",
    "Bibliothèque de base pour créer des graphiques statiques en 2D de manière personnalisable.\n",
    "\n",
    "- <a href=\"https://plotly.com/python/\" target=\"_blank\">Plotly</a>\n",
    "\n",
    "Permet de créer des visualisations interactives (grâce au Javascript), notamment des cartes et des graphiques 3D.\n",
    "\n",
    "- <a href=\"https://python-visualization.github.io/folium/latest/\" target=\"_blank\">Folium</a>\n",
    "\n",
    "Sert à créer des cartes interactives basées sur Leaflet.js, à partir de données Python."
   ]
  },
  {
   "cell_type": "markdown",
   "id": "3b003a54",
   "metadata": {
    "id": "3b003a54"
   },
   "source": [
    "## 🗂️ Sources et formats de données\n",
    "\n",
    "- [🚌 Navettes saisonnières Transaltitude - Isère](https://transport.data.gouv.fr/datasets/desserte-des-stations-de-ski-iseroises-transaltitude-38)"
   ]
  },
  {
   "cell_type": "markdown",
   "id": "HCAuxDpy_gkd",
   "metadata": {
    "id": "HCAuxDpy_gkd"
   },
   "source": [
    "## 🗺️ Visualisation de géométries avec Folium – Exemple sur Grenoble\n",
    "\n",
    "Dans ce code, nous utilisons les bibliothèques Folium et Plotly pour créer une carte interactive centrée sur Grenoble. Nous y ajoutons ensuite différentes formes géométriques courantes utilisées en cartographie :\n",
    "\n",
    "- 📍 Point\n",
    "- ➖ Ligne (LineString)\n",
    "- 🔲 Polygone\n",
    "\n",
    "**Activité :**\n",
    "\n",
    "Modifier la liste `polygon = [...]` afin que le polygone encadre précisément le parc Paul Mistral à Grenoble`"
   ]
  },
  {
   "cell_type": "code",
   "execution_count": null,
   "id": "H1aMqXuDXdX2",
   "metadata": {
    "colab": {
     "base_uri": "https://localhost:8080/",
     "height": 958
    },
    "id": "H1aMqXuDXdX2",
    "outputId": "069f8241-b3fe-48fd-d598-30cfba25c900"
   },
   "outputs": [],
   "source": [
    "# Initialiser une carte centrée sur Grenoble\n",
    "m = folium.Map(location=[45.188, 5.724], zoom_start=14)\n",
    "\n",
    "# 1. Point\n",
    "folium.Marker(location=[45.188, 5.724], popup=\"Point\").add_to(m)\n",
    "\n",
    "# 2. Ligne (LineString)\n",
    "folium.PolyLine(\n",
    "    locations=[[45.188, 5.724], [45.189, 5.726], [45.190, 5.728]],\n",
    "    color='red',\n",
    "    weight=2.5,\n",
    "    popup=\"LineString\"\n",
    ").add_to(m)\n",
    "\n",
    "# 3. Polygone\n",
    "polygon = [\n",
    "    [45.186, 5.722],\n",
    "    [45.187, 5.725],\n",
    "    [45.185, 5.727],\n",
    "    [45.184, 5.723],\n",
    "    [45.186, 5.722]\n",
    "]\n",
    "\n",
    "folium.Polygon(\n",
    "    locations=polygon,\n",
    "    color='purple',\n",
    "    fill=True,\n",
    "    fill_color='purple',\n",
    "    popup=\"Polygone\"\n",
    ").add_to(m)\n",
    "\n",
    "# Affichage ou sauvegarde\n",
    "m"
   ]
  },
  {
   "cell_type": "code",
   "execution_count": null,
   "id": "MHoHmJp3bsai",
   "metadata": {
    "colab": {
     "base_uri": "https://localhost:8080/",
     "height": 542
    },
    "id": "MHoHmJp3bsai",
    "outputId": "d3c253f3-9b77-4f1e-b8a8-b5709deb8963"
   },
   "outputs": [],
   "source": [
    "# 1. Point\n",
    "point = Point(5.724, 45.188)\n",
    "\n",
    "# 2. Ligne (LineString)\n",
    "line = LineString([\n",
    "    (5.724, 45.188),\n",
    "    (5.726, 45.189),\n",
    "    (5.728, 45.190)\n",
    "])\n",
    "\n",
    "# 3. Polygone\n",
    "polygon = Polygon([\n",
    "    (5.722, 45.186),\n",
    "    (5.725, 45.187),\n",
    "    (5.727, 45.185),\n",
    "    (5.723, 45.184),\n",
    "    (5.722, 45.186)\n",
    "])\n",
    "\n",
    "fig = go.Figure()\n",
    "\n",
    "# 1. Point\n",
    "fig.add_trace(go.Scattermapbox(\n",
    "    lon=[point.x], lat=[point.y],\n",
    "    mode='markers',\n",
    "    marker=dict(size=10, color='blue'),\n",
    "    name='Point'\n",
    "))\n",
    "\n",
    "# 2. Ligne (LineString)\n",
    "fig.add_trace(go.Scattermapbox(\n",
    "    lon=[coord[0] for coord in line.coords],\n",
    "    lat=[coord[1] for coord in line.coords],\n",
    "    mode='lines',\n",
    "    line=dict(width=4, color='red'),\n",
    "    name='LineString'\n",
    "))\n",
    "\n",
    "# 3. Polygone\n",
    "fig.add_trace(go.Scattermapbox(\n",
    "    lon=[coord[0] for coord in polygon.exterior.coords],\n",
    "    lat=[coord[1] for coord in polygon.exterior.coords],\n",
    "    mode='lines',\n",
    "    fill='toself',\n",
    "    fillcolor='rgba(128,0,128,0.3)',\n",
    "    line=dict(color='purple'),\n",
    "    name='Polygon'\n",
    "))\n",
    "\n",
    "# 3. Configuration de la carte\n",
    "fig.update_layout(\n",
    "    mapbox_style='open-street-map',\n",
    "    mapbox_zoom=14,\n",
    "    mapbox_center={'lat': 45.188, 'lon': 5.724},\n",
    "    margin=dict(l=0, r=0, t=0, b=0)\n",
    ")\n",
    "\n",
    "fig.show()"
   ]
  },
  {
   "cell_type": "markdown",
   "id": "d9577d4a",
   "metadata": {
    "id": "d9577d4a"
   },
   "source": [
    "## 🗺️ Récupération de données GeoJSON\n",
    "\n",
    "Le projet Github france-geojson propose au format GeoJSON les cartes des **régions, départements, arrondissements, cantons et communes de France (métropole et départements d'outre-mer)** à partir des données publiées par l'<a href=\"https://www.ign.fr\" target=\"_blank\">IGN</a> et l'<a href=\"https://www.insee.fr/fr/accueil\" target=\"_blank\">INSEE</a>. Lien vers le site : https://france-geojson.gregoiredavid.fr\n",
    "\n",
    "**Activité :**\n",
    "\n",
    "- Récupérer l'url du fichier **GeoJSON** de l'**isère** sur le site france-geojson\n",
    "- Avec <a href=\"https://geopandas.org/en/stable/\" target=\"_blank\">GeoPandas</a>, insérer les données dans un **GeoDataframe** (à l'aide de la fonction <a href=\"https://geopandas.org/en/stable/docs/reference/api/geopandas.read_file.html\" target=\"_blank\">geopandas.read_file()</a>)\n",
    "- Afficher ces données sur une **carte** (avec Matplotlib ou Folium) avec **toutes bonnes pratiques de cartographie** (à l'aide de la méthode <a href=\"https://geopandas.org/en/stable/docs/reference/api/geopandas.GeoDataFrame.plot.html\" target=\"_blank\">geopandas.GeoDataFrame.plot()</a> ou de la méthode <a href=\"https://geopandas.org/en/stable/docs/reference/api/geopandas.GeoDataFrame.explore.html\" target=\"_blank\">geopandas.GeoDataFrame.explore()</a> )"
   ]
  },
  {
   "cell_type": "code",
   "execution_count": null,
   "id": "9698ff90",
   "metadata": {
    "id": "9698ff90"
   },
   "outputs": [],
   "source": [
    "# A COMPLETER"
   ]
  },
  {
   "cell_type": "markdown",
   "id": "04674a91",
   "metadata": {
    "id": "04674a91"
   },
   "source": [
    "## 🌍 Choix du système de coordonnées de référence (CRS)\n",
    "\n",
    "La propriété <a href=\"https://geopandas.org/en/stable/docs/reference/api/geopandas.GeoSeries.area.html\" target=\"_blank\">geopandas.GeoSeries.area</a> permet de récupérer la surface des élèments d'une géométrie.\n",
    "\n",
    "**Activité :**\n",
    "\n",
    "- Récupérer la **surface du département de l'isère**. Pourquoi cet avertissement ? (aide avec la propiété <a href=\"https://geopandas.org/en/stable/docs/reference/api/geopandas.GeoDataFrame.crs.html\" target=\"_blank\">geopandas.GeoDataFrame.crs</a>)\n",
    "- Changer de système de coordonnées de référence pour passer en **Web Mercator (EPSG:3857)** grâce à la méthode <a href=\"https://geopandas.org/en/stable/docs/reference/api/geopandas.GeoDataFrame.to_crs.html\" target=\"_blank\">geopandas.GeoDataFrame.to_crs()</a>. Est-ce la bonne valeur de la surface ? Pourquoi ?\n",
    "- Changer de système de coordonnées de référence pour passer en **RGF93 / Lambert-93 (EPSG:2154)**"
   ]
  },
  {
   "cell_type": "code",
   "execution_count": null,
   "id": "d8e8e505",
   "metadata": {
    "id": "d8e8e505"
   },
   "outputs": [],
   "source": [
    "# A COMPLETER"
   ]
  },
  {
   "cell_type": "markdown",
   "id": "11c433e4",
   "metadata": {
    "id": "11c433e4"
   },
   "source": [
    "## 🚌 Affichage des navettes saisonnières Transaltitude - Isère\n",
    "\n",
    "Les **navettes hivernales desservant 14 stations de ski de l’Isère** peuvent être récupérées à cette adresse au format **GeoJSON** : https://transport.data.gouv.fr/datasets/desserte-des-stations-de-ski-iseroises-transaltitude-38\n",
    "\n",
    "**Activité :**\n",
    "\n",
    "- **Récupérer** les données dans un **GeoDataframe**\n",
    "- **Afficher** les données sur une **carte**\n",
    "- **Analyser** la qualité de la donnée\n",
    "- Trouver d'autres jeux de données intéressants pour les transports sur le site : https://data.metropolegrenoble.fr/"
   ]
  },
  {
   "cell_type": "code",
   "execution_count": null,
   "id": "SROhybIZVJnm",
   "metadata": {
    "id": "SROhybIZVJnm"
   },
   "outputs": [],
   "source": [
    "# A COMPLETER"
   ]
  },
  {
   "cell_type": "markdown",
   "id": "0d0aa1b3-4310-4d13-afd5-141eae0bcddb",
   "metadata": {},
   "source": [
    "## 📏 Calcul de distances\n",
    "\n",
    "Lorsqu’on manipule des données géographiques (par exemple des points GPS, des routes ou des zones urbaines), il est souvent nécessaire de mesurer des distances précises. Les deux fonctions suivantes permettent de répondre à deux besoins fréquents :\n",
    "\n",
    "### Fonction `dist_coor_gps(lat1, lon1, lat2, lon2)`\n",
    "\n",
    "#### ➤ À quoi sert-elle ?\n",
    "Cette fonction calcule **la distance à vol d’oiseau** entre deux points donnés par leurs coordonnées GPS (latitude et longitude). C’est ce qu’on appelle la **distance géodésique**.\n",
    "\n",
    "#### ➤ Pourquoi est-ce utile ?\n",
    "Cela permet de connaître la distance réelle entre deux lieux sur Terre, **sans tenir compte des routes, du relief ou des obstacles**. On l’utilise notamment :\n",
    "- pour estimer rapidement si deux points sont proches ou éloignés,\n",
    "- dans des applications de géolocalisation (GPS, cartographie),\n",
    "- pour calculer des zones d’influence (ex : rayon de 500 m autour d’un magasin).\n",
    "\n",
    "#### ➤ Comment ça fonctionne ?\n",
    "Elle utilise la **formule de Haversine**, qui prend en compte la courbure de la Terre pour donner une estimation précise. Elle retourne la distance en **mètres**.\n",
    "\n",
    "### 2. Fonction `dist_coor_gps_objet(g_point, g_objet)`\n",
    "\n",
    "#### ➤ À quoi sert-elle ?\n",
    "Cette fonction calcule la **distance à vol d’oiseau** entre un point (par exemple, une position GPS) et le **bord extérieur d’un polygone** représentant un objet géographique (comme un parc, un bâtiment ou une zone urbaine).\n",
    "\n",
    "Elle renvoie également le **point exact sur le polygone** qui est le plus proche du point de départ.\n",
    "\n",
    "#### ➤ Pourquoi est-ce utile ?\n",
    "Elle permet de :\n",
    "- mesurer la proximité entre un lieu (comme une gare) et une zone (par exemple, un parc),\n",
    "- déterminer automatiquement **le point d’entrée le plus proche** dans une zone fermée,\n",
    "- analyser la distance minimale entre des entités géographiques.\n",
    "\n",
    "#### ➤ Comment ça fonctionne ?\n",
    "1. La fonction vérifie que l’objet fourni est un polygone.\n",
    "2. Elle extrait le **contour extérieur** du polygone.\n",
    "3. Elle calcule le **point le plus proche** du polygone par rapport au point donné.\n",
    "4. Elle utilise la fonction `dist_coor_gps` pour calculer la **distance en mètres** entre le point initial et ce point le plus proche.\n",
    "\n",
    "**Activité :**\n",
    "\n",
    "- Calculer la distance de la gare de Grenoble à la tour Perret à l'aide de la fonction `dist_coor_gps(lat1, lon1, lat2, lon2)`\n",
    "- Calculer la distance de la gare de Grenoble au polygone du parc Paul Mistral tracé dans la première partie de ce notebook à l'aide de la fonction `dist_coor_gps_objet(g_point, g_objet)`\n",
    "- Afficher sur une carte le point du polygone du parc Paul Mistral le plus proche de la gare de Grenoble"
   ]
  },
  {
   "cell_type": "code",
   "execution_count": null,
   "id": "17039ff4-e990-4602-999d-5cf8c7d3c32e",
   "metadata": {},
   "outputs": [],
   "source": [
    "def dist_coor_gps(lat1,lon1,lat2,lon2):\n",
    "    \"\"\"\n",
    "    This uses the ‘haversine’ formula to calculate the great-circle distance between two points – that is, \n",
    "    the shortest distance over the earth’s surface – giving an ‘as-the-crow-flies’ distance between the points \n",
    "    (ignoring any hills they fly over, of course!).\n",
    "    Haversine\n",
    "    formula:    a = sin²(Δφ/2) + cos φ1 ⋅ cos φ2 ⋅ sin²(Δλ/2)\n",
    "    c = 2 ⋅ atan2( √a, √(1−a) )\n",
    "    d = R ⋅ c\n",
    "    where   φ is latitude, λ is longitude, R is earth’s radius (mean radius = 6,371km);\n",
    "    note that angles need to be in radians to pass to trig functions!\n",
    "    \"\"\"\n",
    "    R = 6371.0088\n",
    "    lat1,lon1,lat2,lon2 = map(np.radians, [lat1,lon1,lat2,lon2])\n",
    "\n",
    "    dlat = lat2 - lat1\n",
    "    dlon = lon2 - lon1\n",
    "    a = np.sin(dlat/2)**2 + np.cos(lat1) * np.cos(lat2) * np.sin(dlon/2) **2\n",
    "    c = 2 * np.arctan2(a**0.5, (1-a)**0.5)\n",
    "    d = R * c * 1000 #en mètres\n",
    "    return round(d,4)\n",
    "\n",
    "def dist_coor_gps_objet(g_point, g_objet):\n",
    "    \"\"\"\n",
    "    Calcule la distance à vol d’oiseau entre un point et le bord d’un objet géographique de type Polygon,\n",
    "    et renvoie également le point le plus proche sur le polygone.\n",
    "\n",
    "    Parameters\n",
    "    ----------\n",
    "    g_point : shapely.geometry.Point\n",
    "        Le point de référence (ex. : position GPS de départ).\n",
    "        \n",
    "    g_objet : shapely.geometry.Polygon\n",
    "        L'objet géographique (ex. : parc, bâtiment) sous forme de polygone.\n",
    "        Seul le contour extérieur est pris en compte.\n",
    "\n",
    "    Returns\n",
    "    -------\n",
    "    distance : float\n",
    "        Distance en mètres entre le point et le bord le plus proche du polygone.\n",
    "        \n",
    "    point_proche : shapely.geometry.Point\n",
    "        Point situé sur le bord du polygone, le plus proche de `g_point`.\n",
    "\n",
    "    Raises\n",
    "    ------\n",
    "    TypeError\n",
    "        Si l'objet fourni n'est pas un polygone.\n",
    "    \n",
    "    Notes\n",
    "    -----\n",
    "    La distance est calculée à l’aide de la formule de Haversine,\n",
    "    en considérant la Terre comme une sphère de rayon moyen 6371 km.\n",
    "    \"\"\"\n",
    "    if isinstance(g_objet, Polygon):\n",
    "        line = LinearRing(g_objet.exterior.coords)\n",
    "    else:\n",
    "        raise TypeError(\"Type géométrique non supporté\")\n",
    "        \n",
    "    d = line.project(g_point)\n",
    "    p = line.interpolate(d)\n",
    "    return dist_coor_gps(g_point.y, g_point.x, p.y, p.x), p"
   ]
  },
  {
   "cell_type": "code",
   "execution_count": null,
   "id": "03bc8f65-edbf-446c-ae5f-e57bc605f583",
   "metadata": {},
   "outputs": [],
   "source": [
    "# A COMPLETER"
   ]
  },
  {
   "cell_type": "markdown",
   "id": "4848a978-08e9-4786-869c-365ece6233f0",
   "metadata": {},
   "source": [
    "## 🌍 Récupération de données avec Overpass Turbo\n",
    "\n",
    "Lien vers les ressources :\n",
    "- site : https://overpass-turbo.eu/-\n",
    "- documentation : https://wiki.openstreetmap.org/wiki/Overpass_turbo\n",
    "\n",
    "La requête pour télécharger les arrêts de bus de l'Isère :\n",
    "\n",
    "```bash\n",
    "[out:json][timeout:25];\n",
    "area[\"name\"=\"Isère\"]->.isere;\n",
    "node[\"highway\"=\"bus_stop\"](area.isere);out body;>;out skel qt;\n",
    "```\n",
    "\n",
    "Et la requête pour télécharger les sentiers de rando de l'Isère : \n",
    "\n",
    "```bash\n",
    "[out:json][timeout:50];\n",
    "area[\"name\"=\"Isère\"]->.isere;\n",
    "(  way[\"route\"=\"hiking\"](area.isere);  relation[\"route\"=\"hiking\"](area.isere);\n",
    "  way[\"highway\"~\"path|footway\"][\"sac_scale\"](area.isere);  way[\"highway\"~\"path|footway\"][\"trail_visibility\"](area.isere);  way[\"highway\"~\"path|footway\"][\"foot\"!=\"no\"](area.isere););out body;>;out skel qt;\n",
    "```"
   ]
  },
  {
   "cell_type": "markdown",
   "id": "yVqJUrDqVUG_",
   "metadata": {
    "id": "yVqJUrDqVUG_"
   },
   "source": [
    "## PARTIE N°2\n",
    "\n",
    "A partir des données de transports récupérés sur le site des données ouvertes de la métropole de Grenoble, trouver la **ligne de bus la plus proche** de ce **point de départ de randonnée** `(45.066669, 5.63333)`. Commencer par **afficher** toutes les données utiles sur la carte puis **calculer** les distances utiles."
   ]
  },
  {
   "cell_type": "code",
   "execution_count": null,
   "id": "9c4993c5-8881-49bd-a186-7c9a919e0ff6",
   "metadata": {},
   "outputs": [],
   "source": [
    "# A COMPLETER"
   ]
  }
 ],
 "metadata": {
  "colab": {
   "provenance": []
  },
  "kernelspec": {
   "display_name": "Python 3 (ipykernel)",
   "language": "python",
   "name": "python3"
  },
  "language_info": {
   "codemirror_mode": {
    "name": "ipython",
    "version": 3
   },
   "file_extension": ".py",
   "mimetype": "text/x-python",
   "name": "python",
   "nbconvert_exporter": "python",
   "pygments_lexer": "ipython3",
   "version": "3.11.11"
  }
 },
 "nbformat": 4,
 "nbformat_minor": 5
}
