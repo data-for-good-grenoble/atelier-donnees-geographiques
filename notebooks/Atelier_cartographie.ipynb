{
 "cells": [
  {
   "cell_type": "markdown",
   "id": "c3ca3c31",
   "metadata": {},
   "source": [
    "# 🗺️ Atelier Analyse de données géographiques\n",
    "\n",
    "<a href=\"https://www.linkedin.com/company/data-for-good-grenoble/\" target=\"_blank\"><img src=\"D4G_logo.png\" width=200px/></a>\n",
    "\n",
    "## 🗓️ Jeudi 15 mai 2024 - 18h45 - <a href=\"https://turbine.coop\" target=\"_blank\">La Turbine</a>"
   ]
  },
  {
   "cell_type": "markdown",
   "id": "5647dfb6",
   "metadata": {},
   "source": [
    "## ⚙️ Installation et import des bibliothèques"
   ]
  },
  {
   "cell_type": "code",
   "execution_count": null,
   "id": "7535bf5e-0543-4d77-99c0-b27894e576ed",
   "metadata": {},
   "outputs": [],
   "source": [
    "%pip install -q nbformat plotly folium mapclassify"
   ]
  },
  {
   "cell_type": "code",
   "execution_count": null,
   "id": "d88babe0",
   "metadata": {},
   "outputs": [],
   "source": [
    "import geopandas as gpd\n",
    "import pandas as pd\n",
    "import folium\n",
    "import matplotlib.pyplot as plt\n",
    "import plotly.express as px\n",
    "import pyodide_http\n",
    "\n",
    "pyodide_http.patch_all()"
   ]
  },
  {
   "cell_type": "markdown",
   "id": "3fcbec16",
   "metadata": {},
   "source": [
    "## 📚 Liens vers la documentation des bibliothèques\n",
    "\n",
    "- <a href=\"https://pandas.pydata.org\" target=\"_blank\">Pandas</a>\n",
    "- <a href=\"https://geopandas.org/en/stable/\" target=\"_blank\">GeoPandas</a>\n",
    "- <a href=\"https://matplotlib.org\" target=\"_blank\">Matplotlib</a>\n",
    "- <a href=\"https://python-visualization.github.io/folium/latest/\" target=\"_blank\">Folium</a>\n",
    "- <a href=\"https://plotly.com/python/\" target=\"_blank\">Plotly</a>"
   ]
  },
  {
   "cell_type": "markdown",
   "id": "3b003a54",
   "metadata": {},
   "source": [
    "## 🗂️ Sources et formats de données\n",
    "\n",
    "- [🚌 Navettes saisonnières Transaltitude - Isère](https://transport.data.gouv.fr/datasets/desserte-des-stations-de-ski-iseroises-transaltitude-38)"
   ]
  },
  {
   "cell_type": "markdown",
   "id": "d9577d4a",
   "metadata": {},
   "source": [
    "## 🗺️ Récupération de données GeoJSON\n",
    "\n",
    "Le projet Github france-geojson propose au format GeoJSON les cartes des **régions, départements, arrondissements, cantons et communes de France (métropole et départements d'outre-mer)** à partir des données publiées par l'<a href=\"https://www.ign.fr\" target=\"_blank\">IGN</a> et l'<a href=\"https://www.insee.fr/fr/accueil\" target=\"_blank\">INSEE</a>. Lien vers le site : https://france-geojson.gregoiredavid.fr\n",
    "\n",
    "- Récupérer l'url du fichier **GeoJSON** de l'**isère** sur le site france-geojson\n",
    "- Avec <a href=\"https://geopandas.org/en/stable/\" target=\"_blank\">GeoPandas</a>, insérer les données dans un **GeoDataframe** (à l'aide de la fonction <a href=\"https://geopandas.org/en/stable/docs/reference/api/geopandas.read_file.html\" target=\"_blank\">geopandas.read_file()</a>)\n",
    "- Afficher ces données sur une **carte** (avec Matplotlib ou Folium) avec **toutes bonnes pratiques de cartographie** (à l'aide de la méthode <a href=\"https://geopandas.org/en/stable/docs/reference/api/geopandas.GeoDataFrame.plot.html\" target=\"_blank\">geopandas.GeoDataFrame.plot()</a> ou de la méthode <a href=\"https://geopandas.org/en/stable/docs/reference/api/geopandas.GeoDataFrame.explore.html\" target=\"_blank\">geopandas.GeoDataFrame.explore()</a> )"
   ]
  },
  {
   "cell_type": "code",
   "execution_count": null,
   "id": "9698ff90",
   "metadata": {},
   "outputs": [],
   "source": [
    "# A COMPLETER"
   ]
  },
  {
   "cell_type": "markdown",
   "id": "04674a91",
   "metadata": {},
   "source": [
    "## 🌍 Choix du système de coordonnées de référence (CRS)\n",
    "\n",
    "La propriété <a href=\"https://geopandas.org/en/stable/docs/reference/api/geopandas.GeoSeries.area.html\" target=\"_blank\">geopandas.GeoSeries.area</a> permet de récupérer la surface des élèments d'une géométrie.\n",
    "\n",
    "- Récupérer la **surface du département de l'isère**. Pourquoi cet avertissement ? (aide avec la propiété <a href=\"https://geopandas.org/en/stable/docs/reference/api/geopandas.GeoDataFrame.crs.html\" target=\"_blank\">geopandas.GeoDataFrame.crs</a>)\n",
    "- Changer de système de coordonnées de référence pour passer en **Web Mercator (EPSG:3857)** grâce à la méthode <a href=\"https://geopandas.org/en/stable/docs/reference/api/geopandas.GeoDataFrame.to_crs.html\" target=\"_blank\">geopandas.GeoDataFrame.to_crs()</a>. Est-ce la bonne valeur de la surface ? Pourquoi ?\n",
    "- Changer de système de coordonnées de référence pour passer en **RGF93 / Lambert-93 (EPSG:2154)**"
   ]
  },
  {
   "cell_type": "code",
   "execution_count": null,
   "id": "d8e8e505",
   "metadata": {},
   "outputs": [],
   "source": [
    "# A COMPLETER"
   ]
  },
  {
   "cell_type": "markdown",
   "id": "b2721a5c",
   "metadata": {},
   "source": [
    "## ⛰️ Affichage de l'agglomération de Grenoble\n",
    "\n",
    "Les **limites des communes de la métropole de Grenoble** peuvent être récupérées à cette adresse au format **GeoJSON** : https://www.data.gouv.fr/fr/datasets/les-communes-de-la-metropole-1/\n",
    "\n",
    "Comme précédemment :\n",
    "\n",
    "- **Récupérer** les données dans un **GeoDataframe**\n",
    "- **Afficher** les données sur une **carte**\n",
    "- **Calculer la surface** de l'agglomération"
   ]
  },
  {
   "cell_type": "code",
   "execution_count": null,
   "id": "c1a6bc2a",
   "metadata": {},
   "outputs": [],
   "source": [
    "# A COMPLETER"
   ]
  },
  {
   "cell_type": "markdown",
   "id": "11c433e4",
   "metadata": {},
   "source": [
    "## 🚌 Affichage des navettes saisonnières Transaltitude - Isère\n",
    "\n",
    "Les **navettes hivernales desservant 14 stations de ski de l’Isère** peuvent être récupérées à cette adresse au format **GeoJSON** : https://transport.data.gouv.fr/datasets/desserte-des-stations-de-ski-iseroises-transaltitude-38\n",
    "\n",
    "Comme précédemment :\n",
    "\n",
    "- **Récupérer** les données dans un **GeoDataframe**\n",
    "- **Afficher** les données sur une **carte**"
   ]
  },
  {
   "cell_type": "markdown",
   "id": "54361f98",
   "metadata": {},
   "source": [
    "# A COMPLETER"
   ]
  }
 ],
 "metadata": {
  "kernelspec": {
   "display_name": "Python 3 (ipykernel)",
   "language": "python",
   "name": "python3"
  },
  "language_info": {
   "codemirror_mode": {
    "name": "ipython",
    "version": 3
   },
   "file_extension": ".py",
   "mimetype": "text/x-python",
   "name": "python",
   "nbconvert_exporter": "python",
   "pygments_lexer": "ipython3",
   "version": "3.11.5"
  }
 },
 "nbformat": 4,
 "nbformat_minor": 5
}
